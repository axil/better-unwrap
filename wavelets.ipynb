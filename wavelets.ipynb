{
 "cells": [
  {
   "cell_type": "code",
   "execution_count": null,
   "id": "3905ae78",
   "metadata": {},
   "outputs": [],
   "source": [
    "%bokehlab -v"
   ]
  },
  {
   "cell_type": "code",
   "execution_count": null,
   "id": "42728131",
   "metadata": {},
   "outputs": [],
   "source": [
    "from numpy import *"
   ]
  },
  {
   "cell_type": "code",
   "execution_count": null,
   "id": "bbf38862",
   "metadata": {},
   "outputs": [],
   "source": [
    "from npi import *"
   ]
  },
  {
   "cell_type": "markdown",
   "id": "d4a8765e",
   "metadata": {},
   "source": [
    "### Complex Morlet wavelet"
   ]
  },
  {
   "cell_type": "code",
   "execution_count": null,
   "id": "1ad675d9",
   "metadata": {},
   "outputs": [],
   "source": [
    "x = irange(-pi, pi, pi/100)"
   ]
  },
  {
   "cell_type": "code",
   "execution_count": null,
   "id": "28e0a5ca",
   "metadata": {},
   "outputs": [],
   "source": [
    "w = 7\n",
    "s = 1"
   ]
  },
  {
   "cell_type": "code",
   "execution_count": null,
   "id": "97b73451",
   "metadata": {},
   "outputs": [],
   "source": [
    "m2 = exp(1j*w*x/s) * exp(-0.5*(x/s)**2) * pi**(-0.25) * sqrt(1/s)"
   ]
  },
  {
   "cell_type": "code",
   "execution_count": null,
   "id": "07427bc3",
   "metadata": {},
   "outputs": [],
   "source": [
    "plot(x, np.real(m2))\n",
    "plot(x, cos(w*x/s))\n",
    "plot(x, exp(-0.5*(x/s)**2))"
   ]
  },
  {
   "cell_type": "markdown",
   "id": "571a5927",
   "metadata": {},
   "source": [
    "### cwt"
   ]
  },
  {
   "cell_type": "code",
   "execution_count": null,
   "id": "d2b6333d",
   "metadata": {},
   "outputs": [],
   "source": [
    "fs = 100\n",
    "t = np.arange(10*fs)"
   ]
  },
  {
   "cell_type": "code",
   "execution_count": null,
   "id": "ceab07de",
   "metadata": {},
   "outputs": [],
   "source": [
    "y = np.r_[np.zeros(3*fs), 1.3*np.sin(2*pi*3*t[:4*fs]/fs), np.zeros(3*fs)]"
   ]
  },
  {
   "cell_type": "code",
   "execution_count": null,
   "id": "636bc0de",
   "metadata": {},
   "outputs": [],
   "source": [
    "plot(y)"
   ]
  },
  {
   "cell_type": "code",
   "execution_count": null,
   "id": "646180bf",
   "metadata": {},
   "outputs": [],
   "source": [
    "freq = np.linspace(1, fs/2, 200)\n",
    "widths = w*fs / (2*freq*np.pi)"
   ]
  },
  {
   "cell_type": "code",
   "execution_count": null,
   "id": "26e7da1c",
   "metadata": {},
   "outputs": [],
   "source": [
    "import scipy"
   ]
  },
  {
   "cell_type": "code",
   "execution_count": null,
   "id": "daedffaf",
   "metadata": {},
   "outputs": [],
   "source": [
    "cwtm = scipy.signal.cwt(y, scipy.signal.morlet2, widths, w=w)"
   ]
  },
  {
   "cell_type": "code",
   "execution_count": null,
   "id": "96895ac4",
   "metadata": {},
   "outputs": [],
   "source": [
    "imshow(np.abs(cwtm[:50,:]), flipud=True, show_axes=True, width=500)"
   ]
  },
  {
   "cell_type": "markdown",
   "id": "63a9e347",
   "metadata": {},
   "source": [
    "### TDS"
   ]
  },
  {
   "cell_type": "code",
   "execution_count": null,
   "id": "6940cdc5",
   "metadata": {},
   "outputs": [],
   "source": [
    "from math import pi     \n",
    "from scipy.constants import c\n",
    "import pandas as pd\n",
    "import scipy"
   ]
  },
  {
   "cell_type": "code",
   "execution_count": null,
   "id": "4ffc49bf",
   "metadata": {},
   "outputs": [],
   "source": [
    "df1 = pd.read_csv('reference signal.lvm', sep='\\t', skiprows=21, decimal=',')\n",
    "df2 = pd.read_csv('silicon wafer signal.lvm', sep='\\t', skiprows=21, decimal=',')\n",
    "r = df1.scan \n",
    "s = df2.scan#[:len(r)]"
   ]
  },
  {
   "cell_type": "code",
   "execution_count": null,
   "id": "2d9af234",
   "metadata": {},
   "outputs": [],
   "source": [
    "fs = 1/(df1.X_Value[1] - df1.X_Value[0])"
   ]
  },
  {
   "cell_type": "code",
   "execution_count": null,
   "id": "7311a031",
   "metadata": {},
   "outputs": [],
   "source": [
    "w = 5\n",
    "\n",
    "freq = np.linspace(1, fs/2, 2000)\n",
    "widths = w*fs / (2*freq*np.pi)\n",
    "\n",
    "rw = scipy.signal.cwt(r, scipy.signal.morlet2, widths, w=w)\n",
    "\n",
    "sw = scipy.signal.cwt(s, scipy.signal.morlet2, widths, w=w)\n",
    "\n",
    "imshow(np.abs(rw[:1000,:]), np.abs(sw[:1000,:]), flipud=True, show_axes=True, width=500)"
   ]
  }
 ],
 "metadata": {
  "kernelspec": {
   "display_name": "Python 3 (ipykernel)",
   "language": "python",
   "name": "python3"
  },
  "language_info": {
   "codemirror_mode": {
    "name": "ipython",
    "version": 3
   },
   "file_extension": ".py",
   "mimetype": "text/x-python",
   "name": "python",
   "nbconvert_exporter": "python",
   "pygments_lexer": "ipython3",
   "version": "3.10.1"
  },
  "toc": {
   "base_numbering": 1,
   "nav_menu": {},
   "number_sections": true,
   "sideBar": true,
   "skip_h1_title": false,
   "title_cell": "Table of Contents",
   "title_sidebar": "Contents",
   "toc_cell": false,
   "toc_position": {},
   "toc_section_display": true,
   "toc_window_display": false
  }
 },
 "nbformat": 4,
 "nbformat_minor": 5
}
